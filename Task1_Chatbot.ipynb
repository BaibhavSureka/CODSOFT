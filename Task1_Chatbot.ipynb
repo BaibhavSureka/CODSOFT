{
  "nbformat": 4,
  "nbformat_minor": 0,
  "metadata": {
    "colab": {
      "provenance": [],
      "authorship_tag": "ABX9TyP5atWPLQjq7HHdWmIwYtKc",
      "include_colab_link": true
    },
    "kernelspec": {
      "name": "python3",
      "display_name": "Python 3"
    },
    "language_info": {
      "name": "python"
    }
  },
  "cells": [
    {
      "cell_type": "markdown",
      "metadata": {
        "id": "view-in-github",
        "colab_type": "text"
      },
      "source": [
        "<a href=\"https://colab.research.google.com/github/BaibhavSureka/CODSOFT/blob/main/Task1_Chatbot.ipynb\" target=\"_parent\"><img src=\"https://colab.research.google.com/assets/colab-badge.svg\" alt=\"Open In Colab\"/></a>"
      ]
    },
    {
      "cell_type": "code",
      "execution_count": 1,
      "metadata": {
        "colab": {
          "base_uri": "https://localhost:8080/"
        },
        "id": "4oiHw3Ips1Ij",
        "outputId": "6afa0517-01a9-419d-aef7-e6197e12f668"
      },
      "outputs": [
        {
          "output_type": "stream",
          "name": "stdout",
          "text": [
            "Chatbot: Hello! How can I assist you with AI today?\n",
            "You: hlo\n",
            "Chatbot: I'm sorry, I don't have information on that topic. Please ask an AI-related question.\n",
            "You: hi\n",
            "Chatbot: Hello! How can I assist you with AI today?\n",
            "You: help\n",
            "Chatbot: You can ask me about topics like AI, machine learning, deep learning, chatbots, and more. If you have a specific question, feel free to ask!\n",
            "You: ai\n",
            "Chatbot: Artificial Intelligence (AI) is the simulation of human intelligence in machines that are capable of learning and performing tasks that typically require human intelligence, such as problem-solving, language understanding, and image recognition.\n",
            "You: ml\n",
            "Chatbot: Machine Learning is a subset of AI that focuses on the development of algorithms and statistical models that enable computers to improve their performance on a specific task through learning from data.\n",
            "You: thank you\n",
            "Chatbot: You're welcome! If you have more questions, feel free to ask.\n",
            "You: bye\n",
            "Chatbot: Goodbye! Have a great day!\n"
          ]
        }
      ],
      "source": [
        "# CODSOFT Task 01 - simple chatbot with rule-based responses.\n",
        "\n",
        "def chatbot_response(user_input):\n",
        "    user_input = user_input.lower()\n",
        "    if \"hello\" in user_input or \"hi\" in user_input:\n",
        "        response = \"Hello! How can I assist you with AI today?\"\n",
        "        return response, False\n",
        "    elif \"help\" in user_input:\n",
        "        response = \"You can ask me about topics like AI, machine learning, deep learning, chatbots, and more. If you have a specific question, feel free to ask!\"\n",
        "        return response, False\n",
        "    if \"ai\" in user_input or \"artificial intelligence\" in user_input:\n",
        "        response = \"Artificial Intelligence (AI) is the simulation of human intelligence in machines that are capable of learning and performing tasks that typically require human intelligence, such as problem-solving, language understanding, and image recognition.\"\n",
        "    elif \"machine learning\" in user_input or \"ml\" in user_input:\n",
        "        response = \"Machine Learning is a subset of AI that focuses on the development of algorithms and statistical models that enable computers to improve their performance on a specific task through learning from data.\"\n",
        "    elif \"deep learning\" in user_input or \"dl\" in user_input:\n",
        "        response = \"Deep Learning is a subfield of machine learning that deals with neural networks containing many layers (deep neural networks). It has been instrumental in achieving significant breakthroughs in tasks like image and speech recognition.\"\n",
        "    elif \"chatbot\" in user_input:\n",
        "        response = \"A chatbot is a computer program that simulates conversation with human users, especially over the internet. They are often used for customer support, information retrieval, and general interaction.\"\n",
        "    elif \"neural network\" in user_input:\n",
        "        response = \"A neural network is a computational model inspired by the structure and function of the human brain. It's used in various AI and machine learning applications.\"\n",
        "    elif \"natural language processing\" in user_input or \"nlp\" in user_input:\n",
        "        response = \"Natural Language Processing (NLP) is a field of AI that focuses on the interaction between computers and human language. It's used in applications like text analysis, chatbots, and language translation.\"\n",
        "    elif \"robotics\" in user_input:\n",
        "        response = \"Robotics is the study of designing, building, and operating robots. AI plays a significant role in making robots capable of performing tasks autonomously and intelligently.\"\n",
        "    elif \"reinforcement learning\" in user_input:\n",
        "        response = \"Reinforcement Learning is a type of machine learning where an agent learns to make decisions by taking actions in an environment to maximize a reward signal. It's used in scenarios like game playing and autonomous control.\"\n",
        "    elif \"thank you\" in user_input:\n",
        "        response = \"You're welcome! If you have more questions, feel free to ask.\"\n",
        "        return response, False\n",
        "    elif \"goodbye\" in user_input or \"bye\" in user_input:\n",
        "        response = \"Goodbye! Have a great day!\"\n",
        "        return response, True\n",
        "    else:\n",
        "        response = \"I'm sorry, I don't have information on that topic. Please ask an AI-related question.\"\n",
        "    return response, False\n",
        "\n",
        "print(\"Chatbot: Hello! How can I assist you with AI today?\")\n",
        "while True:\n",
        "    user_input = input(\"You: \").strip()\n",
        "\n",
        "    if not user_input:\n",
        "        print(\"Chatbot: I'm sorry, I didn't catch that. Please ask me something about AI.\")\n",
        "        continue\n",
        "\n",
        "    response, end_conversation = chatbot_response(user_input)\n",
        "    print(\"Chatbot:\", response)\n",
        "\n",
        "    if end_conversation:\n",
        "        break\n"
      ]
    }
  ]
}